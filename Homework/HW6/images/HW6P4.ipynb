{
 "cells": [
  {
   "cell_type": "code",
   "execution_count": 119,
   "metadata": {},
   "outputs": [],
   "source": [
    "#Gaussian Process latent variable model\n",
    "import os\n",
    "import matplotlib.pyplot as plt\n",
    "import pandas as pd\n",
    "import torch\n",
    "from torch.nn import Parameter\n",
    "\n",
    "import pyro\n",
    "import pyro.contrib.gp as gp\n",
    "import pyro.distributions as dist\n",
    "import pyro.ops.stats as stats\n",
    "\n",
    "smoke_test = ('CI' in os.environ)  # ignore; used to check code integrity in the Pyro repo\n",
    "#assert pyro.__version__.startswith('0.3.0')\n",
    "pyro.enable_validation(True)       # can help with debugging\n",
    "pyro.set_rng_seed(1)\n"
   ]
  },
  {
   "cell_type": "code",
   "execution_count": 121,
   "metadata": {},
   "outputs": [
    {
     "name": "stdout",
     "output_type": "stream",
     "text": [
      "Bingo!\n"
     ]
    }
   ],
   "source": [
    "import scipy.io\n",
    "import sys\n",
    "import numpy as np\n",
    "df = scipy.io.loadmat('HW6P4.mat')\n",
    "\n",
    "data= df['DataTrn']\n",
    "ytrain = df['Datalabel']\n",
    "\n",
    "print (\"Bingo!\")"
   ]
  },
  {
   "cell_type": "code",
   "execution_count": 122,
   "metadata": {},
   "outputs": [
    {
     "name": "stdout",
     "output_type": "stream",
     "text": [
      "tensor([[ 0.3315,  0.0939,  0.5184,  ...,  0.6043,  1.0284, -0.0197],\n",
      "        [ 0.2156,  1.0089,  0.2283,  ...,  0.4914,  0.0893,  0.7719],\n",
      "        [ 0.6802,  0.0365,  0.5300,  ...,  1.0900,  0.4097,  0.4634],\n",
      "        ...,\n",
      "        [ 0.1530,  0.6085,  0.6130,  ...,  0.7549,  0.6586,  2.0232],\n",
      "        [ 0.5856,  0.0631,  0.6705,  ...,  1.0654,  0.3508,  0.0250],\n",
      "        [ 0.2573,  0.6597,  0.5202,  ...,  0.6278,  1.0086, -0.0265]],\n",
      "       dtype=torch.float64)\n",
      "[4. 2. 4. 2. 1. 2. 1. 1. 1. 1. 2. 2. 4. 1. 2. 4. 1. 4. 4. 2. 2. 4. 1. 1.\n",
      " 2. 2. 2. 2. 1. 4. 1. 1. 2. 2. 2. 2. 4. 4. 2. 4. 4. 1. 1. 2. 4. 1. 2. 4.\n",
      " 1. 4. 2. 2. 2. 1. 1. 1. 4. 1. 1. 2. 4. 1. 2. 1. 4. 1. 2. 2. 1. 2. 1. 1.\n",
      " 4. 1. 2. 4. 4. 1. 2. 1. 2. 2. 4. 2. 4. 1. 4. 2. 4. 4. 1. 2. 1. 1. 2. 2.\n",
      " 1. 1. 2. 4. 2. 2. 2. 4. 1. 1. 1. 2. 1. 4. 1. 1. 2. 4. 4. 2. 2. 1. 4. 4.\n",
      " 1. 2. 4. 2. 4. 1. 4. 4. 4. 2. 1. 2. 1. 1. 2. 4. 2. 1. 1. 4. 4. 2. 2. 4.\n",
      " 2. 4. 1. 2. 1. 2. 4. 2. 2. 1. 4. 4. 4. 1. 4. 2. 4. 1. 1. 4. 1. 2. 1. 2.\n",
      " 2. 2. 4. 1. 4. 4. 2. 1. 2. 4. 2. 2. 4. 4. 4. 4. 2. 1. 2. 1. 2. 2. 2. 4.\n",
      " 1. 1. 4. 1. 1. 4. 1. 4. 1. 4. 4. 4. 2. 4. 2. 1. 4. 4. 2. 4. 2. 2. 2. 1.\n",
      " 1. 4. 2. 1. 2. 1. 2. 4. 4. 2. 4. 4. 4. 1. 2. 4. 2. 2. 2. 4. 1. 4. 4. 1.\n",
      " 4. 1. 4. 4. 4. 2. 2. 2. 1. 2. 2. 2. 1. 1. 2. 4. 1. 2. 1. 4. 4. 1. 1. 4.\n",
      " 4. 4. 4. 4. 4. 4. 4. 2. 4. 1. 2. 1. 2. 2. 2. 1. 2. 1. 2. 1. 1. 2. 1. 4.\n",
      " 2. 2. 4. 1. 1. 4. 2. 1. 2. 4. 1. 1. 4. 2. 2. 2. 2. 4. 2. 1. 1. 2. 1. 4.\n",
      " 1. 1. 2. 1. 4. 4. 1. 1. 4. 2. 1. 2. 1. 2. 4. 4. 4. 1. 4. 4. 4. 1. 4. 2.\n",
      " 4. 4. 2. 1. 1. 1. 2. 2. 2. 1. 4. 4. 4. 2. 1. 1. 2. 4. 4. 4. 1. 2. 4. 2.\n",
      " 1. 2. 1. 4. 1. 4. 4. 2. 1. 4. 4. 1. 4. 1. 1. 1. 1. 1. 4. 1. 1. 2. 4. 2.\n",
      " 1. 2. 1. 1. 1. 2. 4. 2. 2. 4. 4. 1. 1. 1. 1. 1. 4. 4. 4. 1. 1. 2. 1. 1.\n",
      " 1. 2. 4. 4. 2. 1. 2. 4. 2. 1. 1. 2. 2. 1. 4. 4. 1. 2. 2. 2. 4. 4. 4. 1.\n",
      " 4. 1. 4. 2. 1. 4. 1. 4. 2. 4. 1. 4. 4. 2. 2. 4. 2. 2. 2. 1. 2. 4. 1. 1.\n",
      " 2. 2. 1. 1. 4. 4. 2. 4. 2. 1. 4. 2. 2. 4. 4. 4. 4. 1. 2. 2. 2. 4. 2. 4.\n",
      " 4. 2. 2. 2. 1. 1. 2. 4. 1. 4. 4. 4. 2. 1. 1. 2. 4. 1. 2. 4. 2. 4. 4. 2.\n",
      " 1. 1. 4. 2. 1. 4. 4. 1. 4. 4. 1. 4. 2. 4. 1. 2. 1. 1. 1. 4. 2. 2. 1. 4.\n",
      " 2. 1. 1. 2. 1. 4. 4. 2. 2. 4. 1. 4. 2. 1. 2. 1. 1. 1. 4. 2. 2. 2. 1. 1.\n",
      " 1. 4. 1. 1. 2. 4. 2. 4. 2. 1. 2. 2. 2. 1. 2. 1. 1. 1. 1. 1. 2. 2. 1. 2.\n",
      " 4. 1. 4. 1. 1. 2. 4. 2. 1. 4. 2. 1. 1. 2. 2. 4. 4. 2. 2. 2. 4. 4. 1. 2.\n",
      " 2. 2. 1. 4. 4. 2. 1. 4. 2. 2. 4. 2. 4. 1. 1. 2. 4. 1. 1. 4. 2. 2. 1. 1.\n",
      " 1. 2. 1. 2. 2. 4. 1. 2. 2. 4. 1. 4. 1. 1. 4. 2. 2. 4. 2. 4. 1. 4. 4. 2.\n",
      " 1. 4. 4. 4. 2. 4. 1. 1. 1. 1. 2. 4. 4. 1. 1. 1. 4. 2. 2. 4. 1. 2. 4. 2.\n",
      " 4. 1. 4. 1. 4. 2. 4. 1. 2. 2. 4. 2. 2. 1. 4. 4. 4. 1. 2. 4. 2. 2. 1. 4.\n",
      " 4. 4. 1. 1. 4. 4. 4. 2. 4. 2. 2. 4. 2. 2. 1. 2. 2. 2. 2. 1. 1. 1. 2. 4.\n",
      " 1. 1. 1. 4. 1. 2. 1. 4. 4. 4. 4. 4. 1. 1. 1. 4. 1. 4. 1. 4. 1. 2. 1. 2.\n",
      " 1. 4. 1. 4. 2. 4. 2. 4. 4. 4. 4. 1. 2. 1. 1. 2. 1. 4. 1. 4. 2. 1. 2. 4.\n",
      " 1. 1. 2. 4. 1. 2. 1. 2. 2. 4. 1. 1. 1. 1. 4. 4. 1. 1. 1. 2. 2. 1. 1. 2.\n",
      " 4. 2. 4. 1. 1. 4. 1. 2. 1. 4. 1. 1. 2. 1. 1. 1. 4. 4. 1. 4. 1. 2. 4. 4.\n",
      " 4. 2. 1. 1. 1. 4. 4. 4. 2. 1. 2. 1. 2. 1. 4. 1. 2. 4. 1. 4. 4. 1. 4. 1.\n",
      " 4. 4. 4. 4. 4. 1. 1. 2. 4. 4. 1. 4. 4. 1. 2. 2. 4. 4. 2. 1. 1. 4. 2. 4.\n",
      " 2. 2. 1. 2. 4. 1. 1. 2. 2. 4. 4. 4. 2. 1. 4. 1. 2. 1. 1. 1. 4. 1. 4. 2.\n",
      " 2. 4. 2. 4. 2. 1. 4. 4. 1. 4. 2. 4. 2. 2. 4. 1. 1. 1. 2. 4. 2. 1. 1. 4.\n",
      " 1. 4. 2. 2. 2. 2. 1. 1. 4. 4. 4. 1. 1. 4. 4. 1. 2. 4. 1. 2. 1. 2. 4. 1.\n",
      " 1. 4. 1. 2. 1. 1. 2. 1. 1. 1. 2. 4. 2. 2. 4. 2. 4. 4. 4. 1. 4. 1. 4. 4.\n",
      " 1. 2. 4. 2. 1. 2. 4. 1. 4. 2. 1. 2. 2. 4. 4. 4. 4. 2. 4. 2. 4. 4. 4. 2.\n",
      " 2. 1. 2. 1. 4. 4. 2. 4. 4. 1. 4. 1. 4. 4. 2. 1.]\n",
      "[0.  0.5 0.  0.5 1.  0.5 1.  1.  1.  1.  0.5 0.5 0.  1.  0.5 0.  1.  0.\n",
      " 0.  0.5 0.5 0.  1.  1.  0.5 0.5 0.5 0.5 1.  0.  1.  1.  0.5 0.5 0.5 0.5\n",
      " 0.  0.  0.5 0.  0.  1.  1.  0.5 0.  1.  0.5 0.  1.  0.  0.5 0.5 0.5 1.\n",
      " 1.  1.  0.  1.  1.  0.5 0.  1.  0.5 1.  0.  1.  0.5 0.5 1.  0.5 1.  1.\n",
      " 0.  1.  0.5 0.  0.  1.  0.5 1.  0.5 0.5 0.  0.5 0.  1.  0.  0.5 0.  0.\n",
      " 1.  0.5 1.  1.  0.5 0.5 1.  1.  0.5 0.  0.5 0.5 0.5 0.  1.  1.  1.  0.5\n",
      " 1.  0.  1.  1.  0.5 0.  0.  0.5 0.5 1.  0.  0.  1.  0.5 0.  0.5 0.  1.\n",
      " 0.  0.  0.  0.5 1.  0.5 1.  1.  0.5 0.  0.5 1.  1.  0.  0.  0.5 0.5 0.\n",
      " 0.5 0.  1.  0.5 1.  0.5 0.  0.5 0.5 1.  0.  0.  0.  1.  0.  0.5 0.  1.\n",
      " 1.  0.  1.  0.5 1.  0.5 0.5 0.5 0.  1.  0.  0.  0.5 1.  0.5 0.  0.5 0.5\n",
      " 0.  0.  0.  0.  0.5 1.  0.5 1.  0.5 0.5 0.5 0.  1.  1.  0.  1.  1.  0.\n",
      " 1.  0.  1.  0.  0.  0.  0.5 0.  0.5 1.  0.  0.  0.5 0.  0.5 0.5 0.5 1.\n",
      " 1.  0.  0.5 1.  0.5 1.  0.5 0.  0.  0.5 0.  0.  0.  1.  0.5 0.  0.5 0.5\n",
      " 0.5 0.  1.  0.  0.  1.  0.  1.  0.  0.  0.  0.5 0.5 0.5 1.  0.5 0.5 0.5\n",
      " 1.  1.  0.5 0.  1.  0.5 1.  0.  0.  1.  1.  0.  0.  0.  0.  0.  0.  0.\n",
      " 0.  0.5 0.  1.  0.5 1.  0.5 0.5 0.5 1.  0.5 1.  0.5 1.  1.  0.5 1.  0.\n",
      " 0.5 0.5 0.  1.  1.  0.  0.5 1.  0.5 0.  1.  1.  0.  0.5 0.5 0.5 0.5 0.\n",
      " 0.5 1.  1.  0.5 1.  0.  1.  1.  0.5 1.  0.  0.  1.  1.  0.  0.5 1.  0.5\n",
      " 1.  0.5 0.  0.  0.  1.  0.  0.  0.  1.  0.  0.5 0.  0.  0.5 1.  1.  1.\n",
      " 0.5 0.5 0.5 1.  0.  0.  0.  0.5 1.  1.  0.5 0.  0.  0.  1.  0.5 0.  0.5\n",
      " 1.  0.5 1.  0.  1.  0.  0.  0.5 1.  0.  0.  1.  0.  1.  1.  1.  1.  1.\n",
      " 0.  1.  1.  0.5 0.  0.5 1.  0.5 1.  1.  1.  0.5 0.  0.5 0.5 0.  0.  1.\n",
      " 1.  1.  1.  1.  0.  0.  0.  1.  1.  0.5 1.  1.  1.  0.5 0.  0.  0.5 1.\n",
      " 0.5 0.  0.5 1.  1.  0.5 0.5 1.  0.  0.  1.  0.5 0.5 0.5 0.  0.  0.  1.\n",
      " 0.  1.  0.  0.5 1.  0.  1.  0.  0.5 0.  1.  0.  0.  0.5 0.5 0.  0.5 0.5\n",
      " 0.5 1.  0.5 0.  1.  1.  0.5 0.5 1.  1.  0.  0.  0.5 0.  0.5 1.  0.  0.5\n",
      " 0.5 0.  0.  0.  0.  1.  0.5 0.5 0.5 0.  0.5 0.  0.  0.5 0.5 0.5 1.  1.\n",
      " 0.5 0.  1.  0.  0.  0.  0.5 1.  1.  0.5 0.  1.  0.5 0.  0.5 0.  0.  0.5\n",
      " 1.  1.  0.  0.5 1.  0.  0.  1.  0.  0.  1.  0.  0.5 0.  1.  0.5 1.  1.\n",
      " 1.  0.  0.5 0.5 1.  0.  0.5 1.  1.  0.5 1.  0.  0.  0.5 0.5 0.  1.  0.\n",
      " 0.5 1.  0.5 1.  1.  1.  0.  0.5 0.5 0.5 1.  1.  1.  0.  1.  1.  0.5 0.\n",
      " 0.5 0.  0.5 1.  0.5 0.5 0.5 1.  0.5 1.  1.  1.  1.  1.  0.5 0.5 1.  0.5\n",
      " 0.  1.  0.  1.  1.  0.5 0.  0.5 1.  0.  0.5 1.  1.  0.5 0.5 0.  0.  0.5\n",
      " 0.5 0.5 0.  0.  1.  0.5 0.5 0.5 1.  0.  0.  0.5 1.  0.  0.5 0.5 0.  0.5\n",
      " 0.  1.  1.  0.5 0.  1.  1.  0.  0.5 0.5 1.  1.  1.  0.5 1.  0.5 0.5 0.\n",
      " 1.  0.5 0.5 0.  1.  0.  1.  1.  0.  0.5 0.5 0.  0.5 0.  1.  0.  0.  0.5\n",
      " 1.  0.  0.  0.  0.5 0.  1.  1.  1.  1.  0.5 0.  0.  1.  1.  1.  0.  0.5\n",
      " 0.5 0.  1.  0.5 0.  0.5 0.  1.  0.  1.  0.  0.5 0.  1.  0.5 0.5 0.  0.5\n",
      " 0.5 1.  0.  0.  0.  1.  0.5 0.  0.5 0.5 1.  0.  0.  0.  1.  1.  0.  0.\n",
      " 0.  0.5 0.  0.5 0.5 0.  0.5 0.5 1.  0.5 0.5 0.5 0.5 1.  1.  1.  0.5 0.\n",
      " 1.  1.  1.  0.  1.  0.5 1.  0.  0.  0.  0.  0.  1.  1.  1.  0.  1.  0.\n",
      " 1.  0.  1.  0.5 1.  0.5 1.  0.  1.  0.  0.5 0.  0.5 0.  0.  0.  0.  1.\n",
      " 0.5 1.  1.  0.5 1.  0.  1.  0.  0.5 1.  0.5 0.  1.  1.  0.5 0.  1.  0.5\n",
      " 1.  0.5 0.5 0.  1.  1.  1.  1.  0.  0.  1.  1.  1.  0.5 0.5 1.  1.  0.5\n",
      " 0.  0.5 0.  1.  1.  0.  1.  0.5 1.  0.  1.  1.  0.5 1.  1.  1.  0.  0.\n",
      " 1.  0.  1.  0.5 0.  0.  0.  0.5 1.  1.  1.  0.  0.  0.  0.5 1.  0.5 1.\n",
      " 0.5 1.  0.  1.  0.5 0.  1.  0.  0.  1.  0.  1.  0.  0.  0.  0.  0.  1.\n",
      " 1.  0.5 0.  0.  1.  0.  0.  1.  0.5 0.5 0.  0.  0.5 1.  1.  0.  0.5 0.\n",
      " 0.5 0.5 1.  0.5 0.  1.  1.  0.5 0.5 0.  0.  0.  0.5 1.  0.  1.  0.5 1.\n",
      " 1.  1.  0.  1.  0.  0.5 0.5 0.  0.5 0.  0.5 1.  0.  0.  1.  0.  0.5 0.\n",
      " 0.5 0.5 0.  1.  1.  1.  0.5 0.  0.5 1.  1.  0.  1.  0.  0.5 0.5 0.5 0.5\n",
      " 1.  1.  0.  0.  0.  1.  1.  0.  0.  1.  0.5 0.  1.  0.5 1.  0.5 0.  1.\n",
      " 1.  0.  1.  0.5 1.  1.  0.5 1.  1.  1.  0.5 0.  0.5 0.5 0.  0.5 0.  0.\n",
      " 0.  1.  0.  1.  0.  0.  1.  0.5 0.  0.5 1.  0.5 0.  1.  0.  0.5 1.  0.5\n",
      " 0.5 0.  0.  0.  0.  0.5 0.  0.5 0.  0.  0.  0.5 0.5 1.  0.5 1.  0.  0.\n",
      " 0.5 0.  0.  1.  0.  1.  0.  0.  0.5 1. ]\n"
     ]
    }
   ],
   "source": [
    "#data = torch.tensor(df.values, dtype=torch.get_default_dtype())\n",
    "# we need to transpose data to correct its shape\n",
    "y = torch.from_numpy(data.T).double()\n",
    "\n",
    "print (y)\n",
    "\n",
    "index = ytrain.T[0].astype(np.double)\n",
    "print (index)\n",
    "\n",
    "\n",
    "\n",
    "for i in range(0,1000):\n",
    "    if index[i] == 4.0: \n",
    "        index[i]=0.0;\n",
    "    elif index[i] == 2.0:\n",
    "        index[i]=0.5;\n",
    "    elif index[i] == 1.0:\n",
    "        index[i]=1.0\n",
    "        \n",
    "print(index)\n",
    "torch_index = torch.from_numpy(index).double()\n",
    "torch_index\n",
    "\n",
    "\n",
    "#train_data = torch.utils.data.TensorDataset(y, torch_label)\n",
    "#train_loader = torch.utils.data.DataLoader(train_data, batch_size=batch_size, shuffle=True)\n",
    "from torch.autograd import Variable\n",
    "\n",
    "y= Variable(y).float()\n",
    "torch_index= Variable(torch_index).type(torch.LongTensor)\n",
    "\n"
   ]
  },
  {
   "cell_type": "code",
   "execution_count": 123,
   "metadata": {},
   "outputs": [
    {
     "name": "stdout",
     "output_type": "stream",
     "text": [
      "bingo!\n"
     ]
    }
   ],
   "source": [
    "#capture_time = y.new_tensor(label)\n",
    "# we scale the time into the interval [0, 1]\n",
    "time =torch_index\n",
    "\n",
    "\n",
    "\n",
    "# we setup the mean of our prior over X\n",
    "X_prior_mean = torch.zeros(1000, 2)  # shape: 437 x 2\n",
    "X_prior_mean[:, 0] = time\n",
    "\n",
    "print (\"bingo!\")"
   ]
  },
  {
   "cell_type": "code",
   "execution_count": 124,
   "metadata": {},
   "outputs": [
    {
     "name": "stdout",
     "output_type": "stream",
     "text": [
      "bingo!\n"
     ]
    },
    {
     "data": {
      "text/plain": [
       "torch.Size([1000, 2])"
      ]
     },
     "execution_count": 124,
     "metadata": {},
     "output_type": "execute_result"
    }
   ],
   "source": [
    "kernel = gp.kernels.RBF(input_dim=2, lengthscale=torch.ones(2))\n",
    "\n",
    "# we clone here so that we don't change our prior during the course of training\n",
    "X = Parameter(X_prior_mean.clone())\n",
    "\n",
    "# we will use SparseGPRegression model with num_inducing=32;\n",
    "# initial values for Xu are sampled randomly from X_prior_mean\n",
    "Xu = stats.resample(X_prior_mean.clone(), 32)\n",
    "gplvm = gp.models.SparseGPRegression(X, y, kernel, Xu, noise=torch.tensor(0.01), jitter=1e-5)\n",
    "\n",
    "print (\"bingo!\")\n",
    "\n",
    "X.shape"
   ]
  },
  {
   "cell_type": "code",
   "execution_count": 125,
   "metadata": {},
   "outputs": [
    {
     "name": "stdout",
     "output_type": "stream",
     "text": [
      "bingo!\n"
     ]
    }
   ],
   "source": [
    "# we use `.to_event()` to tell Pyro that the prior distribution for X has no batch_shape\n",
    "gplvm.set_prior(\"X\", dist.Normal(X_prior_mean, 0.1).to_event())\n",
    "gplvm.autoguide(\"X\", dist.Normal)\n",
    "\n",
    "print (\"bingo!\")"
   ]
  },
  {
   "cell_type": "code",
   "execution_count": 134,
   "metadata": {},
   "outputs": [
    {
     "data": {
      "image/png": "[encoded data removed]",
      "text/plain": [
       "<Figure size 432x288 with 1 Axes>"
      ]
     },
     "metadata": {
      "needs_background": "light"
     },
     "output_type": "display_data"
    },
    {
     "name": "stdout",
     "output_type": "stream",
     "text": [
      "bingo!\n"
     ]
    }
   ],
   "source": [
    "# note that training is expected to take a minute or so\n",
    "losses = gp.util.train(gplvm, num_steps=8000)\n",
    "\n",
    "# let's plot the loss curve after 4000 steps of training\n",
    "plt.plot(losses)\n",
    "plt.show()\n",
    "\n",
    "print (\"bingo!\")"
   ]
  },
  {
   "cell_type": "code",
   "execution_count": 137,
   "metadata": {},
   "outputs": [
    {
     "data": {
      "image/png": "[encoded data removed]",
      "text/plain": [
       "<Figure size 432x288 with 1 Axes>"
      ]
     },
     "metadata": {
      "needs_background": "light"
     },
     "output_type": "display_data"
    },
    {
     "name": "stdout",
     "output_type": "stream",
     "text": [
      "bingo!\n"
     ]
    }
   ],
   "source": [
    "plt.plot(losses)\n",
    "plt.xlabel(\"steps\")\n",
    "plt.ylabel(\"Loss\")\n",
    "plt.show()\n",
    "\n",
    "print (\"bingo!\")"
   ]
  },
  {
   "cell_type": "code",
   "execution_count": 135,
   "metadata": {},
   "outputs": [
    {
     "name": "stdout",
     "output_type": "stream",
     "text": [
      "bingo!\n"
     ]
    },
    {
     "data": {
      "text/plain": [
       "array([0. , 0.5, 0. , 0.5, 1. , 0.5, 1. , 1. , 1. , 1. , 0.5, 0.5, 0. ,\n",
       "       1. , 0.5, 0. , 1. , 0. , 0. , 0.5, 0.5, 0. , 1. , 1. , 0.5, 0.5,\n",
       "       0.5, 0.5, 1. , 0. , 1. , 1. , 0.5, 0.5, 0.5, 0.5, 0. , 0. , 0.5,\n",
       "       0. , 0. , 1. , 1. , 0.5, 0. , 1. , 0.5, 0. , 1. , 0. , 0.5, 0.5,\n",
       "       0.5, 1. , 1. , 1. , 0. , 1. , 1. , 0.5, 0. , 1. , 0.5, 1. , 0. ,\n",
       "       1. , 0.5, 0.5, 1. , 0.5, 1. , 1. , 0. , 1. , 0.5, 0. , 0. , 1. ,\n",
       "       0.5, 1. , 0.5, 0.5, 0. , 0.5, 0. , 1. , 0. , 0.5, 0. , 0. , 1. ,\n",
       "       0.5, 1. , 1. , 0.5, 0.5, 1. , 1. , 0.5, 0. , 0.5, 0.5, 0.5, 0. ,\n",
       "       1. , 1. , 1. , 0.5, 1. , 0. , 1. , 1. , 0.5, 0. , 0. , 0.5, 0.5,\n",
       "       1. , 0. , 0. , 1. , 0.5, 0. , 0.5, 0. , 1. , 0. , 0. , 0. , 0.5,\n",
       "       1. , 0.5, 1. , 1. , 0.5, 0. , 0.5, 1. , 1. , 0. , 0. , 0.5, 0.5,\n",
       "       0. , 0.5, 0. , 1. , 0.5, 1. , 0.5, 0. , 0.5, 0.5, 1. , 0. , 0. ,\n",
       "       0. , 1. , 0. , 0.5, 0. , 1. , 1. , 0. , 1. , 0.5, 1. , 0.5, 0.5,\n",
       "       0.5, 0. , 1. , 0. , 0. , 0.5, 1. , 0.5, 0. , 0.5, 0.5, 0. , 0. ,\n",
       "       0. , 0. , 0.5, 1. , 0.5, 1. , 0.5, 0.5, 0.5, 0. , 1. , 1. , 0. ,\n",
       "       1. , 1. , 0. , 1. , 0. , 1. , 0. , 0. , 0. , 0.5, 0. , 0.5, 1. ,\n",
       "       0. , 0. , 0.5, 0. , 0.5, 0.5, 0.5, 1. , 1. , 0. , 0.5, 1. , 0.5,\n",
       "       1. , 0.5, 0. , 0. , 0.5, 0. , 0. , 0. , 1. , 0.5, 0. , 0.5, 0.5,\n",
       "       0.5, 0. , 1. , 0. , 0. , 1. , 0. , 1. , 0. , 0. , 0. , 0.5, 0.5,\n",
       "       0.5, 1. , 0.5, 0.5, 0.5, 1. , 1. , 0.5, 0. , 1. , 0.5, 1. , 0. ,\n",
       "       0. , 1. , 1. , 0. , 0. , 0. , 0. , 0. , 0. , 0. , 0. , 0.5, 0. ,\n",
       "       1. , 0.5, 1. , 0.5, 0.5, 0.5, 1. , 0.5, 1. , 0.5, 1. , 1. , 0.5,\n",
       "       1. , 0. , 0.5, 0.5, 0. , 1. , 1. , 0. , 0.5, 1. , 0.5, 0. , 1. ,\n",
       "       1. , 0. , 0.5, 0.5, 0.5, 0.5, 0. , 0.5, 1. , 1. , 0.5, 1. , 0. ,\n",
       "       1. , 1. , 0.5, 1. , 0. , 0. , 1. , 1. , 0. , 0.5, 1. , 0.5, 1. ,\n",
       "       0.5, 0. , 0. , 0. , 1. , 0. , 0. , 0. , 1. , 0. , 0.5, 0. , 0. ,\n",
       "       0.5, 1. , 1. , 1. , 0.5, 0.5, 0.5, 1. , 0. , 0. , 0. , 0.5, 1. ,\n",
       "       1. , 0.5, 0. , 0. , 0. , 1. , 0.5, 0. , 0.5, 1. , 0.5, 1. , 0. ,\n",
       "       1. , 0. , 0. , 0.5, 1. , 0. , 0. , 1. , 0. , 1. , 1. , 1. , 1. ,\n",
       "       1. , 0. , 1. , 1. , 0.5, 0. , 0.5, 1. , 0.5, 1. , 1. , 1. , 0.5,\n",
       "       0. , 0.5, 0.5, 0. , 0. , 1. , 1. , 1. , 1. , 1. , 0. , 0. , 0. ,\n",
       "       1. , 1. , 0.5, 1. , 1. , 1. , 0.5, 0. , 0. , 0.5, 1. , 0.5, 0. ,\n",
       "       0.5, 1. , 1. , 0.5, 0.5, 1. , 0. , 0. , 1. , 0.5, 0.5, 0.5, 0. ,\n",
       "       0. , 0. , 1. , 0. , 1. , 0. , 0.5, 1. , 0. , 1. , 0. , 0.5, 0. ,\n",
       "       1. , 0. , 0. , 0.5, 0.5, 0. , 0.5, 0.5, 0.5, 1. , 0.5, 0. , 1. ,\n",
       "       1. , 0.5, 0.5, 1. , 1. , 0. , 0. , 0.5, 0. , 0.5, 1. , 0. , 0.5,\n",
       "       0.5, 0. , 0. , 0. , 0. , 1. , 0.5, 0.5, 0.5, 0. , 0.5, 0. , 0. ,\n",
       "       0.5, 0.5, 0.5, 1. , 1. , 0.5, 0. , 1. , 0. , 0. , 0. , 0.5, 1. ,\n",
       "       1. , 0.5, 0. , 1. , 0.5, 0. , 0.5, 0. , 0. , 0.5, 1. , 1. , 0. ,\n",
       "       0.5, 1. , 0. , 0. , 1. , 0. , 0. , 1. , 0. , 0.5, 0. , 1. , 0.5,\n",
       "       1. , 1. , 1. , 0. , 0.5, 0.5, 1. , 0. , 0.5, 1. , 1. , 0.5, 1. ,\n",
       "       0. , 0. , 0.5, 0.5, 0. , 1. , 0. , 0.5, 1. , 0.5, 1. , 1. , 1. ,\n",
       "       0. , 0.5, 0.5, 0.5, 1. , 1. , 1. , 0. , 1. , 1. , 0.5, 0. , 0.5,\n",
       "       0. , 0.5, 1. , 0.5, 0.5, 0.5, 1. , 0.5, 1. , 1. , 1. , 1. , 1. ,\n",
       "       0.5, 0.5, 1. , 0.5, 0. , 1. , 0. , 1. , 1. , 0.5, 0. , 0.5, 1. ,\n",
       "       0. , 0.5, 1. , 1. , 0.5, 0.5, 0. , 0. , 0.5, 0.5, 0.5, 0. , 0. ,\n",
       "       1. , 0.5, 0.5, 0.5, 1. , 0. , 0. , 0.5, 1. , 0. , 0.5, 0.5, 0. ,\n",
       "       0.5, 0. , 1. , 1. , 0.5, 0. , 1. , 1. , 0. , 0.5, 0.5, 1. , 1. ,\n",
       "       1. , 0.5, 1. , 0.5, 0.5, 0. , 1. , 0.5, 0.5, 0. , 1. , 0. , 1. ,\n",
       "       1. , 0. , 0.5, 0.5, 0. , 0.5, 0. , 1. , 0. , 0. , 0.5, 1. , 0. ,\n",
       "       0. , 0. , 0.5, 0. , 1. , 1. , 1. , 1. , 0.5, 0. , 0. , 1. , 1. ,\n",
       "       1. , 0. , 0.5, 0.5, 0. , 1. , 0.5, 0. , 0.5, 0. , 1. , 0. , 1. ,\n",
       "       0. , 0.5, 0. , 1. , 0.5, 0.5, 0. , 0.5, 0.5, 1. , 0. , 0. , 0. ,\n",
       "       1. , 0.5, 0. , 0.5, 0.5, 1. , 0. , 0. , 0. , 1. , 1. , 0. , 0. ,\n",
       "       0. , 0.5, 0. , 0.5, 0.5, 0. , 0.5, 0.5, 1. , 0.5, 0.5, 0.5, 0.5,\n",
       "       1. , 1. , 1. , 0.5, 0. , 1. , 1. , 1. , 0. , 1. , 0.5, 1. , 0. ,\n",
       "       0. , 0. , 0. , 0. , 1. , 1. , 1. , 0. , 1. , 0. , 1. , 0. , 1. ,\n",
       "       0.5, 1. , 0.5, 1. , 0. , 1. , 0. , 0.5, 0. , 0.5, 0. , 0. , 0. ,\n",
       "       0. , 1. , 0.5, 1. , 1. , 0.5, 1. , 0. , 1. , 0. , 0.5, 1. , 0.5,\n",
       "       0. , 1. , 1. , 0.5, 0. , 1. , 0.5, 1. , 0.5, 0.5, 0. , 1. , 1. ,\n",
       "       1. , 1. , 0. , 0. , 1. , 1. , 1. , 0.5, 0.5, 1. , 1. , 0.5, 0. ,\n",
       "       0.5, 0. , 1. , 1. , 0. , 1. , 0.5, 1. , 0. , 1. , 1. , 0.5, 1. ,\n",
       "       1. , 1. , 0. , 0. , 1. , 0. , 1. , 0.5, 0. , 0. , 0. , 0.5, 1. ,\n",
       "       1. , 1. , 0. , 0. , 0. , 0.5, 1. , 0.5, 1. , 0.5, 1. , 0. , 1. ,\n",
       "       0.5, 0. , 1. , 0. , 0. , 1. , 0. , 1. , 0. , 0. , 0. , 0. , 0. ,\n",
       "       1. , 1. , 0.5, 0. , 0. , 1. , 0. , 0. , 1. , 0.5, 0.5, 0. , 0. ,\n",
       "       0.5, 1. , 1. , 0. , 0.5, 0. , 0.5, 0.5, 1. , 0.5, 0. , 1. , 1. ,\n",
       "       0.5, 0.5, 0. , 0. , 0. , 0.5, 1. , 0. , 1. , 0.5, 1. , 1. , 1. ,\n",
       "       0. , 1. , 0. , 0.5, 0.5, 0. , 0.5, 0. , 0.5, 1. , 0. , 0. , 1. ,\n",
       "       0. , 0.5, 0. , 0.5, 0.5, 0. , 1. , 1. , 1. , 0.5, 0. , 0.5, 1. ,\n",
       "       1. , 0. , 1. , 0. , 0.5, 0.5, 0.5, 0.5, 1. , 1. , 0. , 0. , 0. ,\n",
       "       1. , 1. , 0. , 0. , 1. , 0.5, 0. , 1. , 0.5, 1. , 0.5, 0. , 1. ,\n",
       "       1. , 0. , 1. , 0.5, 1. , 1. , 0.5, 1. , 1. , 1. , 0.5, 0. , 0.5,\n",
       "       0.5, 0. , 0.5, 0. , 0. , 0. , 1. , 0. , 1. , 0. , 0. , 1. , 0.5,\n",
       "       0. , 0.5, 1. , 0.5, 0. , 1. , 0. , 0.5, 1. , 0.5, 0.5, 0. , 0. ,\n",
       "       0. , 0. , 0.5, 0. , 0.5, 0. , 0. , 0. , 0.5, 0.5, 1. , 0.5, 1. ,\n",
       "       0. , 0. , 0.5, 0. , 0. , 1. , 0. , 1. , 0. , 0. , 0.5, 1. ])"
      ]
     },
     "execution_count": 135,
     "metadata": {},
     "output_type": "execute_result"
    }
   ],
   "source": [
    "gplvm.mode = \"guide\"\n",
    "X = gplvm.X\n",
    "\n",
    "print (\"bingo!\")\n",
    "index"
   ]
  },
  {
   "cell_type": "code",
   "execution_count": 136,
   "metadata": {},
   "outputs": [
    {
     "name": "stderr",
     "output_type": "stream",
     "text": [
      "'c' argument looks like a single numeric RGB or RGBA sequence, which should be avoided as value-mapping will have precedence in case its length matches with 'x' & 'y'.  Please use a 2-D array with a single row if you really want to specify the same RGB or RGBA value for all points.\n",
      "'c' argument looks like a single numeric RGB or RGBA sequence, which should be avoided as value-mapping will have precedence in case its length matches with 'x' & 'y'.  Please use a 2-D array with a single row if you really want to specify the same RGB or RGBA value for all points.\n",
      "'c' argument looks like a single numeric RGB or RGBA sequence, which should be avoided as value-mapping will have precedence in case its length matches with 'x' & 'y'.  Please use a 2-D array with a single row if you really want to specify the same RGB or RGBA value for all points.\n"
     ]
    },
    {
     "name": "stdout",
     "output_type": "stream",
     "text": [
      "[0.  0.5 0.  0.5 1.  0.5 1.  1.  1.  1.  0.5 0.5 0.  1.  0.5 0.  1.  0.\n",
      " 0.  0.5 0.5 0.  1.  1.  0.5 0.5 0.5 0.5 1.  0.  1.  1.  0.5 0.5 0.5 0.5\n",
      " 0.  0.  0.5 0.  0.  1.  1.  0.5 0.  1.  0.5 0.  1.  0.  0.5 0.5 0.5 1.\n",
      " 1.  1.  0.  1.  1.  0.5 0.  1.  0.5 1.  0.  1.  0.5 0.5 1.  0.5 1.  1.\n",
      " 0.  1.  0.5 0.  0.  1.  0.5 1.  0.5 0.5 0.  0.5 0.  1.  0.  0.5 0.  0.\n",
      " 1.  0.5 1.  1.  0.5 0.5 1.  1.  0.5 0.  0.5 0.5 0.5 0.  1.  1.  1.  0.5\n",
      " 1.  0.  1.  1.  0.5 0.  0.  0.5 0.5 1.  0.  0.  1.  0.5 0.  0.5 0.  1.\n",
      " 0.  0.  0.  0.5 1.  0.5 1.  1.  0.5 0.  0.5 1.  1.  0.  0.  0.5 0.5 0.\n",
      " 0.5 0.  1.  0.5 1.  0.5 0.  0.5 0.5 1.  0.  0.  0.  1.  0.  0.5 0.  1.\n",
      " 1.  0.  1.  0.5 1.  0.5 0.5 0.5 0.  1.  0.  0.  0.5 1.  0.5 0.  0.5 0.5\n",
      " 0.  0.  0.  0.  0.5 1.  0.5 1.  0.5 0.5 0.5 0.  1.  1.  0.  1.  1.  0.\n",
      " 1.  0.  1.  0.  0.  0.  0.5 0.  0.5 1.  0.  0.  0.5 0.  0.5 0.5 0.5 1.\n",
      " 1.  0.  0.5 1.  0.5 1.  0.5 0.  0.  0.5 0.  0.  0.  1.  0.5 0.  0.5 0.5\n",
      " 0.5 0.  1.  0.  0.  1.  0.  1.  0.  0.  0.  0.5 0.5 0.5 1.  0.5 0.5 0.5\n",
      " 1.  1.  0.5 0.  1.  0.5 1.  0.  0.  1.  1.  0.  0.  0.  0.  0.  0.  0.\n",
      " 0.  0.5 0.  1.  0.5 1.  0.5 0.5 0.5 1.  0.5 1.  0.5 1.  1.  0.5 1.  0.\n",
      " 0.5 0.5 0.  1.  1.  0.  0.5 1.  0.5 0.  1.  1.  0.  0.5 0.5 0.5 0.5 0.\n",
      " 0.5 1.  1.  0.5 1.  0.  1.  1.  0.5 1.  0.  0.  1.  1.  0.  0.5 1.  0.5\n",
      " 1.  0.5 0.  0.  0.  1.  0.  0.  0.  1.  0.  0.5 0.  0.  0.5 1.  1.  1.\n",
      " 0.5 0.5 0.5 1.  0.  0.  0.  0.5 1.  1.  0.5 0.  0.  0.  1.  0.5 0.  0.5\n",
      " 1.  0.5 1.  0.  1.  0.  0.  0.5 1.  0.  0.  1.  0.  1.  1.  1.  1.  1.\n",
      " 0.  1.  1.  0.5 0.  0.5 1.  0.5 1.  1.  1.  0.5 0.  0.5 0.5 0.  0.  1.\n",
      " 1.  1.  1.  1.  0.  0.  0.  1.  1.  0.5 1.  1.  1.  0.5 0.  0.  0.5 1.\n",
      " 0.5 0.  0.5 1.  1.  0.5 0.5 1.  0.  0.  1.  0.5 0.5 0.5 0.  0.  0.  1.\n",
      " 0.  1.  0.  0.5 1.  0.  1.  0.  0.5 0.  1.  0.  0.  0.5 0.5 0.  0.5 0.5\n",
      " 0.5 1.  0.5 0.  1.  1.  0.5 0.5 1.  1.  0.  0.  0.5 0.  0.5 1.  0.  0.5\n",
      " 0.5 0.  0.  0.  0.  1.  0.5 0.5 0.5 0.  0.5 0.  0.  0.5 0.5 0.5 1.  1.\n",
      " 0.5 0.  1.  0.  0.  0.  0.5 1.  1.  0.5 0.  1.  0.5 0.  0.5 0.  0.  0.5\n",
      " 1.  1.  0.  0.5 1.  0.  0.  1.  0.  0.  1.  0.  0.5 0.  1.  0.5 1.  1.\n",
      " 1.  0.  0.5 0.5 1.  0.  0.5 1.  1.  0.5 1.  0.  0.  0.5 0.5 0.  1.  0.\n",
      " 0.5 1.  0.5 1.  1.  1.  0.  0.5 0.5 0.5 1.  1.  1.  0.  1.  1.  0.5 0.\n",
      " 0.5 0.  0.5 1.  0.5 0.5 0.5 1.  0.5 1.  1.  1.  1.  1.  0.5 0.5 1.  0.5\n",
      " 0.  1.  0.  1.  1.  0.5 0.  0.5 1.  0.  0.5 1.  1.  0.5 0.5 0.  0.  0.5\n",
      " 0.5 0.5 0.  0.  1.  0.5 0.5 0.5 1.  0.  0.  0.5 1.  0.  0.5 0.5 0.  0.5\n",
      " 0.  1.  1.  0.5 0.  1.  1.  0.  0.5 0.5 1.  1.  1.  0.5 1.  0.5 0.5 0.\n",
      " 1.  0.5 0.5 0.  1.  0.  1.  1.  0.  0.5 0.5 0.  0.5 0.  1.  0.  0.  0.5\n",
      " 1.  0.  0.  0.  0.5 0.  1.  1.  1.  1.  0.5 0.  0.  1.  1.  1.  0.  0.5\n",
      " 0.5 0.  1.  0.5 0.  0.5 0.  1.  0.  1.  0.  0.5 0.  1.  0.5 0.5 0.  0.5\n",
      " 0.5 1.  0.  0.  0.  1.  0.5 0.  0.5 0.5 1.  0.  0.  0.  1.  1.  0.  0.\n",
      " 0.  0.5 0.  0.5 0.5 0.  0.5 0.5 1.  0.5 0.5 0.5 0.5 1.  1.  1.  0.5 0.\n",
      " 1.  1.  1.  0.  1.  0.5 1.  0.  0.  0.  0.  0.  1.  1.  1.  0.  1.  0.\n",
      " 1.  0.  1.  0.5 1.  0.5 1.  0.  1.  0.  0.5 0.  0.5 0.  0.  0.  0.  1.\n",
      " 0.5 1.  1.  0.5 1.  0.  1.  0.  0.5 1.  0.5 0.  1.  1.  0.5 0.  1.  0.5\n",
      " 1.  0.5 0.5 0.  1.  1.  1.  1.  0.  0.  1.  1.  1.  0.5 0.5 1.  1.  0.5\n",
      " 0.  0.5 0.  1.  1.  0.  1.  0.5 1.  0.  1.  1.  0.5 1.  1.  1.  0.  0.\n",
      " 1.  0.  1.  0.5 0.  0.  0.  0.5 1.  1.  1.  0.  0.  0.  0.5 1.  0.5 1.\n",
      " 0.5 1.  0.  1.  0.5 0.  1.  0.  0.  1.  0.  1.  0.  0.  0.  0.  0.  1.\n",
      " 1.  0.5 0.  0.  1.  0.  0.  1.  0.5 0.5 0.  0.  0.5 1.  1.  0.  0.5 0.\n",
      " 0.5 0.5 1.  0.5 0.  1.  1.  0.5 0.5 0.  0.  0.  0.5 1.  0.  1.  0.5 1.\n",
      " 1.  1.  0.  1.  0.  0.5 0.5 0.  0.5 0.  0.5 1.  0.  0.  1.  0.  0.5 0.\n",
      " 0.5 0.5 0.  1.  1.  1.  0.5 0.  0.5 1.  1.  0.  1.  0.  0.5 0.5 0.5 0.5\n",
      " 1.  1.  0.  0.  0.  1.  1.  0.  0.  1.  0.5 0.  1.  0.5 1.  0.5 0.  1.\n",
      " 1.  0.  1.  0.5 1.  1.  0.5 1.  1.  1.  0.5 0.  0.5 0.5 0.  0.5 0.  0.\n",
      " 0.  1.  0.  1.  0.  0.  1.  0.5 0.  0.5 1.  0.5 0.  1.  0.  0.5 1.  0.5\n",
      " 0.5 0.  0.  0.  0.  0.5 0.  0.5 0.  0.  0.  0.5 0.5 1.  0.5 1.  0.  0.\n",
      " 0.5 0.  0.  1.  0.  1.  0.  0.  0.5 1. ]\n"
     ]
    },
    {
     "data": {
      "image/png": "[encoded data removed]",
      "text/plain": [
       "<Figure size 576x432 with 1 Axes>"
      ]
     },
     "metadata": {
      "needs_background": "light"
     },
     "output_type": "display_data"
    },
    {
     "name": "stdout",
     "output_type": "stream",
     "text": [
      "bingo!\n"
     ]
    }
   ],
   "source": [
    "plt.figure(figsize=(8, 6))\n",
    "colors = plt.get_cmap(\"tab10\").colors[::-1]\n",
    "labels = [0,0.5,1]\n",
    "\n",
    "print (index)\n",
    "\n",
    "labeltype = [\"first type\",\"second type\",\"third type\"]\n",
    "\n",
    "X = gplvm.X_loc.detach().numpy()\n",
    "for i, label in enumerate(labels):\n",
    "    X_i = X[index == label]\n",
    "    plt.scatter(X_i[:, 0], X_i[:, 1], c=colors[i], label=labeltype[i])\n",
    "\n",
    "plt.legend()\n",
    "#plt.xlabel(\"pseudotime\", fontsize=14)\n",
    "#plt.ylabel(\"branching\", fontsize=14)\n",
    "#plt.title(\"GPLVM on Single-Cell qPCR data\", fontsize=16)\n",
    "plt.show()\n",
    "\n",
    "print (\"bingo!\")"
   ]
  },
  {
   "cell_type": "code",
   "execution_count": 23,
   "metadata": {},
   "outputs": [
    {
     "data": {
      "text/plain": [
       "Index(['1', '2', '4', '8', '16', '32 TE', '32 ICM', '64 PE', '64 TE',\n",
       "       '64 EPI'],\n",
       "      dtype='object')"
      ]
     },
     "execution_count": 23,
     "metadata": {},
     "output_type": "execute_result"
    }
   ],
   "source": [
    "labels"
   ]
  },
  {
   "cell_type": "code",
   "execution_count": null,
   "metadata": {},
   "outputs": [],
   "source": []
  }
 ],
 "metadata": {
  "kernelspec": {
   "display_name": "Python 3",
   "language": "python",
   "name": "python3"
  },
  "language_info": {
   "codemirror_mode": {
    "name": "ipython",
    "version": 3
   },
   "file_extension": ".py",
   "mimetype": "text/x-python",
   "name": "python",
   "nbconvert_exporter": "python",
   "pygments_lexer": "ipython3",
   "version": "3.7.1"
  },
  "toc": {
   "base_numbering": 1,
   "nav_menu": {},
   "number_sections": true,
   "sideBar": true,
   "skip_h1_title": false,
   "title_cell": "Table of Contents",
   "title_sidebar": "Contents",
   "toc_cell": false,
   "toc_position": {},
   "toc_section_display": true,
   "toc_window_display": false
  }
 },
 "nbformat": 4,
 "nbformat_minor": 2
}
